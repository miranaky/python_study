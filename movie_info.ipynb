{
 "cells": [
  {
   "cell_type": "code",
   "execution_count": 3,
   "metadata": {},
   "outputs": [],
   "source": [
    "from langchain.chat_models import ChatOpenAI\n",
    "from langchain.prompts import ChatPromptTemplate\n",
    "from langchain.prompts.few_shot import FewShotChatMessagePromptTemplate\n",
    "from langchain.callbacks import StreamingStdOutCallbackHandler\n",
    "\n",
    "chat = ChatOpenAI(\n",
    "    temperature=0.1,\n",
    "    streaming=True,\n",
    "    callbacks=[\n",
    "        StreamingStdOutCallbackHandler(),\n",
    "    ],\n",
    ")\n"
   ]
  },
  {
   "cell_type": "code",
   "execution_count": 4,
   "metadata": {},
   "outputs": [],
   "source": [
    "examples = [\n",
    "    {\n",
    "        \"movie_title\": \"인셉션\",\n",
    "        \"answer\": \"\"\"\n",
    "        연도: 2010\n",
    "        감독: 크리스토퍼 놀란\n",
    "        주요 출연진: 레오나르도 디카프리오, 조셉 고든 레빗, 엘렌 페이지, 톰 하디\n",
    "        예산: 약 1억 6천만 달러\n",
    "        흥행 수익: 약 8억 3천만 달러\n",
    "        장르: SF, 스릴러\n",
    "        시놉시스: 꿈을 통해 다른 사람의 무의식을 조작할 수 있는 기술을 가진 전문가가 한 마지막 임무로 꿈 속에서 아이디어를 심는 ‘인셉션’ 작업을 수행하며 벌어지는 이야기를 그린다.\n",
    "        \"\"\",\n",
    "    },\n",
    "    {\n",
    "        \"movie_title\": \"기생충\",\n",
    "        \"answer\": \"\"\"\n",
    "        연도: 2019\n",
    "        감독: 봉준호\n",
    "        주요 출연진: 송강호, 이선균, 조여정, 최우식, 박소담\n",
    "        예산: 약 114억 원 (한화)\n",
    "        흥행 수익: 약 2억 6천만 달러\n",
    "        장르: 드라마, 스릴러, 블랙 코미디\n",
    "        시놉시스: 가난한 가족이 부유한 가족의 일상에 침투하며 벌어지는 사건을 통해 계층 간의 갈등과 사회적 문제를 다루는 영화.\n",
    "        \"\"\",\n",
    "    },\n",
    "    {\n",
    "        \"movie_title\": \"다크나이트\",\n",
    "        \"answer\": \"\"\"\n",
    "        연도: 2008\n",
    "        감독: 크리스토퍼 놀란\n",
    "        주요 출연진: 크리스찬 베일, 히스 레저, 아론 에크하트, 마이클 케인, 개리 올드만\n",
    "        예산: 약 1억 8천 5백만 달러\n",
    "        흥행 수익: 약 10억 달러\n",
    "        장르: 액션, 범죄, 드라마\n",
    "        시놉시스: 배트맨이 고담시의 질서를 무너뜨리려는 조커와 맞서 싸우며 법과 정의의 의미를 탐구하는 이야기.\n",
    "        \"\"\",\n",
    "    },\n",
    "    {\n",
    "        \"movie_title\": \"타이타닉\",\n",
    "        \"answer\": \"\"\"\n",
    "        연도: 1997\n",
    "        감독: 제임스 카메론\n",
    "        주요 출연진: 레오나르도 디카프리오, 케이트 윈슬렛, 빌리 제인, 캐시 베이츠\n",
    "        예산: 약 2억 달러\n",
    "        흥행 수익: 약 22억 달러\n",
    "        장르: 드라마, 로맨스\n",
    "        시놉시스: 1912년, 타이타닉 호의 비극적인 침몰 속에서 피어난 젊은 남녀의 애절한 사랑 이야기를 그린다.\n",
    "        \"\"\",\n",
    "    },\n",
    "    {\n",
    "        \"movie_title\": \"매드맥스: 분노의 도로\",\n",
    "        \"answer\": \"\"\"\n",
    "        연도: 2015\n",
    "        감독: 조지 밀러\n",
    "        주요 출연진: 톰 하디, 샤를리즈 테론, 니콜라스 홀트, 휴 키스-번\n",
    "        예산: 약 1억 5천만 달러\n",
    "        흥행 수익: 약 3억 7천 5백만 달러\n",
    "        장르: 액션, 어드벤처, SF\n",
    "        시놉시스: 포스트 아포칼립스 세계에서 생존을 위해 싸우는 전사들과 폭군에 맞서 자유를 찾기 위한 피할 수 없는 추격전을 다룬다.\n",
    "        \"\"\",\n",
    "    },\n",
    "]"
   ]
  },
  {
   "cell_type": "code",
   "execution_count": 5,
   "metadata": {},
   "outputs": [],
   "source": [
    "example_prompt = ChatPromptTemplate.from_messages(\n",
    "    [\n",
    "        (\"human\", \"영화 {movie_title}에 대해 알려주세요.\"),\n",
    "        (\"ai\", \"{answer}\"),\n",
    "    ]\n",
    ")"
   ]
  },
  {
   "cell_type": "code",
   "execution_count": 6,
   "metadata": {},
   "outputs": [],
   "source": [
    "example_prompt = FewShotChatMessagePromptTemplate(\n",
    "    example_prompt=example_prompt,\n",
    "    examples=examples,\n",
    ")"
   ]
  },
  {
   "cell_type": "code",
   "execution_count": 7,
   "metadata": {},
   "outputs": [],
   "source": [
    "final_prompt = ChatPromptTemplate.from_messages(\n",
    "    [\n",
    "        (\"system\", \"당신은 영화에 대해 모든 정보를 알고 있는 전문가 입니다.\"),\n",
    "        example_prompt,\n",
    "        (\"human\", \"영화 {movie_title}에 대해 알려주세요.\"),\n",
    "    ]\n",
    ")"
   ]
  },
  {
   "cell_type": "code",
   "execution_count": 12,
   "metadata": {},
   "outputs": [
    {
     "name": "stdout",
     "output_type": "stream",
     "text": [
      "\n",
      "        연도: 2016\n",
      "        감독: 데미안 셔절\n",
      "        주요 출연진: 라이언 고슬링, 엠마 스톤, 존 레전드, 로즈마리 드윗\n",
      "        예산: 약 3천만 달러\n",
      "        흥행 수익: 약 4억 4천만 달러\n",
      "        장르: 뮤지컬, 로맨스, 드라마\n",
      "        시놉시스: 홀리우드에서 꿈을 향해 달려가는 남녀의 이야기를 담은 뮤지컬 영화로, 사랑과 꿈, 희망을 다룬다."
     ]
    },
    {
     "data": {
      "text/plain": [
       "AIMessageChunk(content='\\n        연도: 2016\\n        감독: 데미안 셔절\\n        주요 출연진: 라이언 고슬링, 엠마 스톤, 존 레전드, 로즈마리 드윗\\n        예산: 약 3천만 달러\\n        흥행 수익: 약 4억 4천만 달러\\n        장르: 뮤지컬, 로맨스, 드라마\\n        시놉시스: 홀리우드에서 꿈을 향해 달려가는 남녀의 이야기를 담은 뮤지컬 영화로, 사랑과 꿈, 희망을 다룬다.')"
      ]
     },
     "execution_count": 12,
     "metadata": {},
     "output_type": "execute_result"
    }
   ],
   "source": [
    "chain = final_prompt | chat\n",
    "\n",
    "chain.invoke(\n",
    "    {\n",
    "        \"movie_title\": \"라라랜드\",\n",
    "    }\n",
    ")"
   ]
  }
 ],
 "metadata": {
  "kernelspec": {
   "display_name": "gpt-langchain",
   "language": "python",
   "name": "python3"
  },
  "language_info": {
   "codemirror_mode": {
    "name": "ipython",
    "version": 3
   },
   "file_extension": ".py",
   "mimetype": "text/x-python",
   "name": "python",
   "nbconvert_exporter": "python",
   "pygments_lexer": "ipython3",
   "version": "3.11.9"
  }
 },
 "nbformat": 4,
 "nbformat_minor": 2
}
