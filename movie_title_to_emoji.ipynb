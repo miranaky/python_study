{
 "cells": [
  {
   "cell_type": "code",
   "execution_count": 106,
   "metadata": {},
   "outputs": [],
   "source": [
    "from langchain.memory import ConversationBufferMemory\n",
    "from langchain.chat_models import ChatOpenAI\n",
    "from langchain.schema.runnable import RunnablePassthrough\n",
    "from langchain.prompts import ChatPromptTemplate, MessagesPlaceholder\n",
    "from langchain.prompts.few_shot import FewShotChatMessagePromptTemplate\n",
    "from langchain.callbacks import StreamingStdOutCallbackHandler\n",
    "\n",
    "chat = ChatOpenAI(\n",
    "    model=\"gpt-4o-mini\",\n",
    "    temperature=0.1,\n",
    "    streaming=True,\n",
    "    callbacks=[\n",
    "        StreamingStdOutCallbackHandler(),\n",
    "    ],\n",
    ")\n"
   ]
  },
  {
   "cell_type": "code",
   "execution_count": 107,
   "metadata": {},
   "outputs": [],
   "source": [
    "memory = ConversationBufferMemory(return_messages=True)"
   ]
  },
  {
   "cell_type": "code",
   "execution_count": 108,
   "metadata": {},
   "outputs": [],
   "source": [
    "examples = [\n",
    "    {\n",
    "        \"movie_title\": \"탑건\",\n",
    "        \"answer\": \"🛩️👨‍✈️🔥\",\n",
    "    },\n",
    "    {\n",
    "        \"movie_title\": \"대부\",\n",
    "        \"answer\": \"👨‍👨‍👦🔫🍝\",\n",
    "    },\n",
    "    {\n",
    "        \"movie_title\": \"다크나이트\",\n",
    "        \"answer\": \"🦇🃏🌃\",\n",
    "    },\n",
    "    {\n",
    "        \"movie_title\": \"타이타닉\",\n",
    "        \"answer\": \"🚢💑💔​\",\n",
    "    },\n",
    "    {\n",
    "        \"movie_title\": \"매드맥스: 분노의 도로\",\n",
    "        \"answer\": \"🚗🔥🏜️​\",\n",
    "    },\n",
    "]"
   ]
  },
  {
   "cell_type": "code",
   "execution_count": 109,
   "metadata": {},
   "outputs": [],
   "source": [
    "example_prompt = ChatPromptTemplate.from_messages(\n",
    "    [\n",
    "        (\"human\", \"{movie_title}\"),\n",
    "        (\"ai\", \"{answer}\"),\n",
    "    ]\n",
    ")\n",
    "example_prompt = FewShotChatMessagePromptTemplate(\n",
    "    example_prompt=example_prompt,\n",
    "    examples=examples,\n",
    ")"
   ]
  },
  {
   "cell_type": "code",
   "execution_count": 110,
   "metadata": {},
   "outputs": [],
   "source": [
    "final_prompt = ChatPromptTemplate.from_messages(\n",
    "    [\n",
    "        (\"system\", \"영화 제목을 주면 세 개의 이모티콘으로 주제를 요약해 줍니다.\"),\n",
    "        example_prompt,\n",
    "        MessagesPlaceholder(variable_name=\"history\"),\n",
    "        (\"human\", \"{movie_title}\"),\n",
    "    ]\n",
    ")"
   ]
  },
  {
   "cell_type": "code",
   "execution_count": 111,
   "metadata": {},
   "outputs": [],
   "source": [
    "def load_memory(_):\n",
    "    return memory.load_memory_variables({})[\"history\"]"
   ]
  },
  {
   "cell_type": "code",
   "execution_count": 112,
   "metadata": {},
   "outputs": [],
   "source": [
    "chain = RunnablePassthrough.assign(history=load_memory) | final_prompt | chat\n"
   ]
  },
  {
   "cell_type": "code",
   "execution_count": 113,
   "metadata": {},
   "outputs": [],
   "source": [
    "def invoke_chain(question):\n",
    "    result = chain.invoke(\n",
    "        {\n",
    "            \"movie_title\": question,\n",
    "        }\n",
    "    )\n",
    "    memory.save_context(\n",
    "        {\"input\": question},\n",
    "        {\"output\": result.content},\n",
    "    )\n",
    "    print(result)"
   ]
  },
  {
   "cell_type": "code",
   "execution_count": 114,
   "metadata": {},
   "outputs": [
    {
     "name": "stdout",
     "output_type": "stream",
     "text": [
      "🎶🌆❤️content='🎶🌆❤️'\n",
      "💤🌀🧠content='💤🌀🧠'\n",
      "🌌🌿👽content='🌌🌿👽'\n",
      "🤖🦸‍♂️💥content='🤖🦸\\u200d♂️💥'\n",
      "🌌⚔️🚀content='🌌⚔️🚀'\n"
     ]
    }
   ],
   "source": [
    "invoke_chain(\"라라랜드\")\n",
    "invoke_chain(\"인셉션\")\n",
    "invoke_chain(\"아바타\")\n",
    "invoke_chain(\"아이언맨\")\n",
    "invoke_chain(\"스타워즈\")"
   ]
  },
  {
   "cell_type": "code",
   "execution_count": 115,
   "metadata": {},
   "outputs": [
    {
     "name": "stdout",
     "output_type": "stream",
     "text": [
      "[HumanMessage(content='라라랜드'), AIMessage(content='🎶🌆❤️'), HumanMessage(content='인셉션'), AIMessage(content='💤🌀🧠'), HumanMessage(content='아바타'), AIMessage(content='🌌🌿👽'), HumanMessage(content='아이언맨'), AIMessage(content='🤖🦸\\u200d♂️💥'), HumanMessage(content='스타워즈'), AIMessage(content='🌌⚔️🚀')]\n"
     ]
    }
   ],
   "source": [
    "print(load_memory(\"\"))"
   ]
  },
  {
   "cell_type": "code",
   "execution_count": 116,
   "metadata": {},
   "outputs": [
    {
     "name": "stdout",
     "output_type": "stream",
     "text": [
      "\"아이언맨\"이었습니다.content='\"아이언맨\"이었습니다.'\n"
     ]
    }
   ],
   "source": [
    "invoke_chain(\"내가 스타워즈 전에 물어본 영화는 무엇인가요?\")"
   ]
  }
 ],
 "metadata": {
  "kernelspec": {
   "display_name": "gpt-langchain",
   "language": "python",
   "name": "python3"
  },
  "language_info": {
   "codemirror_mode": {
    "name": "ipython",
    "version": 3
   },
   "file_extension": ".py",
   "mimetype": "text/x-python",
   "name": "python",
   "nbconvert_exporter": "python",
   "pygments_lexer": "ipython3",
   "version": "3.11.9"
  }
 },
 "nbformat": 4,
 "nbformat_minor": 2
}
