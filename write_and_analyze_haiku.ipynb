{
 "cells": [
  {
   "cell_type": "code",
   "execution_count": 1,
   "metadata": {},
   "outputs": [],
   "source": [
    "from langchain.chat_models import ChatOpenAI\n",
    "from langchain.prompts import ChatPromptTemplate\n",
    "from langchain.callbacks import StreamingStdOutCallbackHandler\n",
    "\n",
    "chat = ChatOpenAI(\n",
    "    temperature=0.1,\n",
    "    streaming=True,\n",
    "    callbacks=[\n",
    "        StreamingStdOutCallbackHandler(),\n",
    "    ],\n",
    ")\n"
   ]
  },
  {
   "cell_type": "code",
   "execution_count": 2,
   "metadata": {},
   "outputs": [],
   "source": [
    "haiku_generator_template = ChatPromptTemplate.from_messages(\n",
    "    [\n",
    "        (\n",
    "            \"system\",\n",
    "            \"\"\"한국어로 프로그래밍 언어의 본질을 5-7-5 음절의 Haiku로 표현하세요. 각 언어의 특징, 철학, 그리고 개발자에게 주는 가치를 간결하게 담아내세요. 언어의 핵심 특성을 시각적으로 상상할 수 있는 이미지나 비유로 표현하세요. 짧은 시 속에 언어의 깊이와 아름다움을 담아내는 것이 목표입니다\"\"\",\n",
    "        ),\n",
    "        (\"human\", \"{language}\"),\n",
    "    ]\n",
    ")\n"
   ]
  },
  {
   "cell_type": "code",
   "execution_count": 6,
   "metadata": {},
   "outputs": [],
   "source": [
    "haiku_analyzer_template = ChatPromptTemplate.from_messages(\n",
    "    [\n",
    "        (\n",
    "            \"system\",\n",
    "            \"\"\"당신은 Haiku를 분석하고 설명하는 전문가 AI입니다.우선 주어진 Haiku 를 한번 읽어주세요. 주어진 Haiku를 읽고, 그 구조(5-7-5 음절), 주제(자연, 계절 등), 감정, 언어적 기법(은유, 이미지 등), 그리고 함축된 의미를 분석하여 사용자에게 명확하고 통찰력 있는 설명을 제공하세요. Haiku의 간결함이 의미와 감정 전달에 어떻게 기여하는지 설명하고, 독자에게 남기는 여운과 상상력을 자극하는 방식을 논의하세요.\"\"\",\n",
    "        ),\n",
    "        (\"human\", \"{haiku}\"),\n",
    "    ]\n",
    ")"
   ]
  },
  {
   "cell_type": "code",
   "execution_count": 7,
   "metadata": {},
   "outputs": [],
   "source": [
    "writer_chain = haiku_generator_template | chat\n",
    "analyzer_chain = haiku_analyzer_template | chat\n",
    "\n",
    "final_chain = {\"haiku\": writer_chain} | analyzer_chain\n"
   ]
  },
  {
   "cell_type": "code",
   "execution_count": 8,
   "metadata": {},
   "outputs": [
    {
     "data": {
      "text/plain": [
       "AIMessage(content='이 주어진 Haiku는 다음과 같은 구조로 이루어져 있습니다:\\n\\n5 음절: 간결하고도\\n7 음절: 아름다운 파이썬은\\n5 음절: 개발자의 친구\\n\\n주제: 이 Haiku는 파이썬 프로그래밍 언어에 대한 칭찬과 사랑을 담고 있습니다. 파이썬이 개발자에게 친숙하고 쉽게 다가온다는 점을 강조하고 있습니다.\\n\\n감정: 이 Haiku는 긍정적이고 칭찬하는 감정을 담고 있습니다. 개발자들에게 파이썬이 친구처럼 익숙하고 도움이 되는 존재임을 강조하고 있습니다.\\n\\n언어적 기법: Haiku는 파이썬이 개발자에게 친구와 같이 소중하고 필요한 도구임을 은유적으로 표현하고 있습니다. 또한, \"간결하고 아름다운\"이라는 형용사를 사용하여 파이썬의 코드가 간결하고 아름다운 특성을 강조하고 있습니다.\\n\\n함축된 의미: 이 Haiku는 파이썬이 개발자들에게 친숙하고 쉽게 다가온다는 점을 강조하면서, 파이썬의 강점을 소중히 여기고 칭찬하는 내용을 담고 있습니다. 파이썬의 부드러운 문법과 다양한 기능이 개발자들에게 큰 도움이 되고 있다는 메시지를 전달하고 있습니다.\\n\\n간결함의 역할: Haiku의 간결한 형식은 파이썬의 간결하고 아름다운 특성을 반영하고 있습니다. 간결한 구조와 짧은 글자 수가 파이썬의 코드와도 어울리며, 독자에게 짧고 강렬한 인상을 남기면서도 깊은 생각을 하도록 유도합니다.\\n\\n여운과 상상력: 이 Haiku는 독자에게 파이썬의 아름다움과 유용성에 대한 상상력을 자극합니다. 파이썬이 개발자들에게 어떻게 친숙하고 쉽게 다가오는지를 상상하게 하며, 개발자들 사이에서 파이썬이 얼마나 소중히 여겨지고 있는지를 생각하게 합니다. Haiku의 짧은 형식이 독자에게 여운을 남기고, 파이썬에 대한 새로운 시각을 제시하여 상상력을 자극합니다.')"
      ]
     },
     "execution_count": 8,
     "metadata": {},
     "output_type": "execute_result"
    }
   ],
   "source": [
    "final_chain.invoke({\"language\": \"Python\"})"
   ]
  },
  {
   "cell_type": "markdown",
   "metadata": {},
   "source": []
  }
 ],
 "metadata": {
  "kernelspec": {
   "display_name": "gpt-langchain",
   "language": "python",
   "name": "python3"
  },
  "language_info": {
   "codemirror_mode": {
    "name": "ipython",
    "version": 3
   },
   "file_extension": ".py",
   "mimetype": "text/x-python",
   "name": "python",
   "nbconvert_exporter": "python",
   "pygments_lexer": "ipython3",
   "version": "3.11.9"
  }
 },
 "nbformat": 4,
 "nbformat_minor": 2
}
